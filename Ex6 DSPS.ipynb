{
 "cells": [
  {
   "cell_type": "markdown",
   "metadata": {},
   "source": [
    "# `TD Learning` "
   ]
  },
  {
   "cell_type": "code",
   "execution_count": 6,
   "metadata": {},
   "outputs": [],
   "source": [
    "import numpy as np\n",
    "import matplotlib.pyplot as plt\n",
    "import pandas as pd\n",
    "import seaborn as sns\n",
    "from sklearn import datasets"
   ]
  },
  {
   "cell_type": "code",
   "execution_count": 81,
   "metadata": {},
   "outputs": [],
   "source": [
    "def Simple_TD_learning(p,eta,iters):\n",
    "    Num_states = 9\n",
    "    Num_moves = 4\n",
    "    grid = np.zeros((5, 5))\n",
    "    target_grid = grid[1:4, 1:4]\n",
    "    rewards = np.zeros((5, 5))\n",
    "    Values_matrix = np.zeros((3, 3))\n",
    "\n",
    "# Create a boolean mask for the target grid\n",
    "    mask = np.ones_like(rewards, dtype=bool)\n",
    "    mask[1:4, 1:4] = False  # Target grid is False, others are True\n",
    "    mask1 = np.zeros_like(rewards, dtype=bool)\n",
    "    mask1[1:4, 1:4] = True  # Target grid is True\n",
    "    starting_position = (1, 1)\n",
    "    goal_position = (3, 3)\n",
    "# Set non-target squares to -10\n",
    "    rewards[mask] = -10\n",
    "    rewards[mask1] = -1\n",
    "    rewards[goal_position] = 10\n",
    "    moves = [(0, 1), (0, -1), (1, 0), (-1, 0)]\n",
    "    bernouli_vector = np.random.binomial(1, p, iters)\n",
    "    for i in range(iters):\n",
    "        state = starting_position\n",
    "        if bernouli_vector[i] == 1:\n",
    "            #Find move to the next state that maximizes the value function\n",
    "            #delta = rewards[state] + Values_matrix[next_state] - Values_matrix[state]\n",
    "            move = np.argmax(rewards[state] + Values_matrix[state[0] + moves[0], state[1] + moves[1]] - Values_matrix[state] for move in moves) \n",
    "        else:\n",
    "            move = np.random.choice(Num_moves, 1-p)\n",
    "        next_state = (state[0] + moves[move][0], state[1] + moves[move][1])\n",
    "        if next_state[0] < 0 or next_state[0] >= 5 or next_state[1] < 0 or next_state[1] >= 5:\n",
    "            Values_matrix[state] = -10\n",
    "            break\n",
    "        if mask1[next_state]:\n",
    "            Values_matrix[state] = -1\n",
    "        if next_state == goal_position:\n",
    "            Values_matrix[state] = 10\n",
    "        Values_matrix[state] = Values_matrix[state] + eta * (rewards[state] + Values_matrix[next_state] - Values_matrix[state])\n",
    "        state = next_state\n",
    "\n",
    "    return rewards\n",
    "    \n",
    "# rewards of all moves that would lead to falling outside the target grid are -10\n",
    "\n",
    "# Transition probabilities"
   ]
  },
  {
   "cell_type": "code",
   "execution_count": 2,
   "metadata": {},
   "outputs": [],
   "source": [
    "import numpy as np\n",
    "\n",
    "def Simple_TD_learning(p, eta, iters):\n",
    "    \"\"\"\n",
    "    Simple Temporal-Difference (TD) Learning on a grid.\n",
    "\n",
    "    Parameters:\n",
    "    - p (float): Probability of choosing the greedy action.\n",
    "    - eta (float): Learning rate.\n",
    "    - iters (int): Number of episodes.\n",
    "\n",
    "    Returns:\n",
    "    - np.ndarray: Final Values_matrix representing state values.\n",
    "    \"\"\"\n",
    "    grid_size = 5\n",
    "    grid = np.zeros((grid_size, grid_size))\n",
    "    \n",
    "    # Define target grid indices (1 to 3 in both row and column)\n",
    "    target_rows = slice(1, 4)\n",
    "    target_cols = slice(1, 4)\n",
    "    target_grid = grid[target_rows, target_cols]\n",
    "    \n",
    "    # Initialize rewards\n",
    "    rewards = np.zeros((grid_size, grid_size))\n",
    "    \n",
    "    # Masks for target and non-target grid\n",
    "    mask_non_target = np.ones_like(rewards, dtype=bool)\n",
    "    mask_non_target[target_rows, target_cols] = False  # Non-target grid is True\n",
    "    mask_target = ~mask_non_target  # Target grid is False\n",
    "    \n",
    "    starting_position = (1, 1)\n",
    "    goal_position = (3, 3)\n",
    "    \n",
    "    # Set rewards\n",
    "    rewards[mask_non_target] = -10   # Non-target squares\n",
    "    rewards[mask_target] = -1        # Target squares\n",
    "    rewards[goal_position] = 10      # Goal square\n",
    "    \n",
    "    # Define possible moves: Right, Left, Down, Up\n",
    "    moves = [(0, 1), (0, -1), (1, 0), (-1, 0)]\n",
    "    Num_moves = len(moves)\n",
    "    \n",
    "    # Initialize Values_matrix for target grid (3x3)\n",
    "    Values_matrix = np.zeros((3, 3))\n",
    "    \n",
    "    # Set the goal's value to 10 and prevent its update\n",
    "    goal_indices = (goal_position[0] - 1, goal_position[1] - 1)\n",
    "    Values_matrix[goal_indices] = 10  # Fixed value for the goal\n",
    "    max_change_per_episode = []\n",
    "    \n",
    "    for episode in range(iters):\n",
    "        state = starting_position\n",
    "        done = False  # Flag to indicate if the episode has ended\n",
    "        max_change = 0  # Track the maximum change in V(s) for this episode\n",
    "        while not done:\n",
    "            # Decide whether to choose greedy or random action\n",
    "            if np.random.rand() < p:\n",
    "                # **Greedy Action Selection:** Choose the move that maximizes V(s')\n",
    "                action_values = []\n",
    "                for move in moves:\n",
    "                    next_r = state[0] + move[0]\n",
    "                    next_c = state[1] + move[1]\n",
    "                    \n",
    "                    # Check if the next state is within the grid\n",
    "                    if 0 <= next_r < grid_size and 0 <= next_c < grid_size:\n",
    "                        if (next_r, next_c) == goal_position:\n",
    "                            v_next = Values_matrix[goal_position[0]-1, goal_position[1]-1] + rewards[goal_position[0] - 1, goal_position[1] - 1]\n",
    "                        elif (1 <= next_r <=3) and (1 <= next_c <=3):\n",
    "                            # Map to Values_matrix indices (subtracting 1)\n",
    "                            v_next = Values_matrix[next_r -1, next_c -1] + rewards[next_r-1, next_c-1]\n",
    "                        else:\n",
    "                            v_next = -10  # Value for non-target, non-goal states\n",
    "                        action_values.append(v_next)\n",
    "                    else:\n",
    "                        # Move leads outside grid; assign a very low value\n",
    "                        action_values.append(-np.inf)\n",
    "                \n",
    "                # Choose the move with the highest V(s')\n",
    "                move = np.argmax(action_values)\n",
    "            else:\n",
    "                # **Random Action Selection:** Choose a random move\n",
    "                move = np.random.choice(Num_moves)\n",
    "            \n",
    "            # Execute the chosen move\n",
    "            selected_move = moves[move]\n",
    "            next_state = (state[0] + selected_move[0], state[1] + selected_move[1])\n",
    "            \n",
    "            if not (0 <= next_state[0] < grid_size and 0 <= next_state[1] < grid_size):\n",
    "                    # **Agent has moved outside the grid (invalid move)**\n",
    "                    if 1 <= state[0] <=3 and 1 <= state[1] <=3:\n",
    "                        # Current state is within target grid; assign a penalty via TD update\n",
    "                        reward = -10\n",
    "                        v_next = 0  # No future value since it's terminal\n",
    "                        v_current = Values_matrix[state[0]-1, state[1]-1]\n",
    "                        delta = reward + v_next - v_current\n",
    "                        Values_matrix[state[0]-1, state[1]-1] += eta * delta\n",
    "                    done = True  # End the episode\n",
    "                    continue  # Proceed to the next episode\n",
    "            \n",
    "            # **Determine the reward + v for the next_state**\n",
    "            if next_state == goal_position:\n",
    "                reward = 10\n",
    "                v_next = 10\n",
    "            elif 1 <= next_state[0] <=3 and 1 <= next_state[1] <=3:\n",
    "                reward = -1\n",
    "                v_next = Values_matrix[next_state[0]-1, next_state[1]-1]\n",
    "            else:\n",
    "                reward = -10\n",
    "                v_next = -10 \n",
    "            \n",
    "           \n",
    "            # **Retrieve V(s) for the TD update**\n",
    "            if (1 <= state[0] <=3) and (1 <= state[1] <=3):\n",
    "                v_current = Values_matrix[state[0]-1, state[1]-1]\n",
    "            else:\n",
    "                v_current = 0  # Non-target grid states are considered to have zero value\n",
    "            \n",
    "            # **Compute the TD error (delta)**\n",
    "            delta = reward + v_next - v_current\n",
    "            \n",
    "            # **Update V(s) using the TD update rule**\n",
    "            if (1 <= state[0] <=3) and (1 <= state[1] <=3) and (state != goal_position):\n",
    "                change = eta * delta\n",
    "                Values_matrix[state[0]-1, state[1]-1] += change\n",
    "                max_change = max(max_change, abs(change))\n",
    "\n",
    "            # **Transition to the next state**\n",
    "            state = next_state\n",
    "            \n",
    "            # **Check if the episode should end**\n",
    "            if state == goal_position:\n",
    "                done = True  # Reached the goal; end the episode\n",
    "        max_change_per_episode.append(max_change)\n",
    "\n",
    "    return Values_matrix, max_change_per_episode\n"
   ]
  },
  {
   "cell_type": "markdown",
   "metadata": {},
   "source": [
    "## Policy:"
   ]
  },
  {
   "cell_type": "code",
   "execution_count": 2,
   "metadata": {},
   "outputs": [
    {
     "name": "stdout",
     "output_type": "stream",
     "text": [
      "Optimal Policy:\n",
      "State (1, 1): Move (1, 0)\n",
      "State (1, 2): Move (1, 0)\n",
      "State (1, 3): Move (1, 0)\n",
      "State (2, 1): Move (1, 0)\n",
      "State (2, 2): Move (1, 0)\n",
      "State (2, 3): Move (1, 0)\n",
      "State (3, 1): Move (0, 1)\n",
      "State (3, 2): Move (0, 1)\n"
     ]
    }
   ],
   "source": [
    "def extract_policy(Values_matrix):\n",
    "    moves = [(0, 1), (0, -1), (1, 0), (-1, 0)]\n",
    "    policy = {}\n",
    "    grid_size = 5\n",
    "    goal_position = (3, 3)\n",
    "    \n",
    "    for r in range(1, 4):\n",
    "        for c in range(1, 4):\n",
    "            state = (r, c)\n",
    "            if state == goal_position:\n",
    "                continue  # Skip the goal state\n",
    "            \n",
    "            action_values = []\n",
    "            for move in moves:\n",
    "                next_r = r + move[0]\n",
    "                next_c = c + move[1]\n",
    "                \n",
    "                if (next_r, next_c) == goal_position:\n",
    "                    v_next = 10 + 10\n",
    "                elif 1 <= next_r <=3 and 1 <= next_c <=3:\n",
    "                    v_next = Values_matrix[next_r -1, next_c -1] - 1\n",
    "                else:\n",
    "                    v_next = -np.inf\n",
    "                action_values.append(v_next)\n",
    "            \n",
    "            # Choose the move with the highest value\n",
    "            best_move_index = np.argmax(action_values)\n",
    "            best_move = moves[best_move_index]\n",
    "            policy[state] = best_move\n",
    "    \n",
    "    return policy\n",
    "\n",
    "# Example Usage:\n",
    "final_values,max1 = Simple_TD_learning(p=0.8, eta=0.1, iters=30000)\n",
    "optimal_policy = extract_policy(final_values)\n",
    "print(\"Optimal Policy:\")\n",
    "for state, move in sorted(optimal_policy.items()):\n",
    "    print(f\"State {state}: Move {move}\")\n"
   ]
  },
  {
   "cell_type": "code",
   "execution_count": 3,
   "metadata": {},
   "outputs": [],
   "source": [
    "A, max_values = Simple_TD_learning(0.8, 0.01, 30000)\n"
   ]
  },
  {
   "cell_type": "markdown",
   "metadata": {},
   "source": [
    "## States after 30000 steps:"
   ]
  },
  {
   "cell_type": "code",
   "execution_count": 8,
   "metadata": {},
   "outputs": [
    {
     "data": {
      "text/plain": [
       "array([[ 2.80345314,  5.81173419,  8.51443295],\n",
       "       [ 6.44083652,  9.94184627, 10.59859313],\n",
       "       [ 7.34422821, 11.46807483, 10.        ]])"
      ]
     },
     "execution_count": 8,
     "metadata": {},
     "output_type": "execute_result"
    }
   ],
   "source": [
    "A"
   ]
  },
  {
   "cell_type": "code",
   "execution_count": 14,
   "metadata": {},
   "outputs": [
    {
     "name": "stdout",
     "output_type": "stream",
     "text": [
      "                  State Values                  \n",
      "==================================================\n",
      "State 1: 2.80    State 2: 5.81    State 3: 8.51    \n",
      "\n",
      "State 4: 6.44    State 5: 9.94    State 6: 10.60    \n",
      "\n",
      "State 7: 7.34    State 8: 11.47    State 9: 10.00    \n",
      "\n"
     ]
    }
   ],
   "source": [
    "print(\"{:^48}\".format(\"State Values\"))\n",
    "print(\"=\" * 50)\n",
    "\n",
    "state_num = 1\n",
    "for row in A:\n",
    "    for value in row:\n",
    "        print(f\"State {state_num}: {value:.2f}\", end=\"    \")\n",
    "        state_num += 1\n",
    "    print(\"\\n\") \n"
   ]
  },
  {
   "cell_type": "code",
   "execution_count": 5,
   "metadata": {},
   "outputs": [
    {
     "data": {
      "image/png": "[encoded data removed]",
      "text/plain": [
       "<Figure size 640x480 with 1 Axes>"
      ]
     },
     "metadata": {},
     "output_type": "display_data"
    }
   ],
   "source": [
    "plt.plot(max_values)\n",
    "plt.xlabel('Episode')\n",
    "plt.ylabel('Max Value Change')\n",
    "plt.title('Convergence Monitoring')\n",
    "plt.show()"
   ]
  },
  {
   "cell_type": "code",
   "execution_count": 17,
   "metadata": {},
   "outputs": [],
   "source": [
    "A_vec = [Simple_TD_learning(0.8, 0.01, 30000)[0] for _ in range(10)]"
   ]
  },
  {
   "cell_type": "code",
   "execution_count": 18,
   "metadata": {},
   "outputs": [
    {
     "data": {
      "text/plain": [
       "array([[ 3.59477299,  6.94533025,  6.97514317],\n",
       "       [ 6.97485569,  9.9574213 , 10.81915663],\n",
       "       [ 6.9149484 , 11.21476418, 10.        ]])"
      ]
     },
     "execution_count": 18,
     "metadata": {},
     "output_type": "execute_result"
    }
   ],
   "source": [
    "A_mean = np.mean(A_vec, axis=0)\n",
    "A_mean"
   ]
  },
  {
   "cell_type": "markdown",
   "metadata": {},
   "source": [
    "## Part B"
   ]
  },
  {
   "cell_type": "markdown",
   "metadata": {},
   "source": [
    "V(2,3) = (1-p) * (r(3,3) + v(3,3)) + p * (r(3,3) + v(3,3)) + (1-p) * (r(1,3) + v(1,3)) + (1-p) * (r(2,2) + v(2,2)) + (1-p) * r(bad_squares) = "
   ]
  },
  {
   "cell_type": "code",
   "execution_count": 20,
   "metadata": {},
   "outputs": [
    {
     "data": {
      "text/plain": [
       "array([[ 3.59477299,  6.94533025,  6.97514317],\n",
       "       [ 6.97485569,  9.9574213 , 10.81915663],\n",
       "       [ 6.9149484 , 11.21476418, 10.        ]])"
      ]
     },
     "execution_count": 20,
     "metadata": {},
     "output_type": "execute_result"
    }
   ],
   "source": [
    "A_mean"
   ]
  },
  {
   "cell_type": "code",
   "execution_count": 19,
   "metadata": {},
   "outputs": [
    {
     "data": {
      "text/plain": [
       "10.98651289471158"
      ]
     },
     "execution_count": 19,
     "metadata": {},
     "output_type": "execute_result"
    }
   ],
   "source": [
    "p = 0.8\n",
    "V_2_3 = 0.2 * (10) + 0.8 * (10) + 0.2 * (A_mean[0,2] - 1) + 0.2 * (A_mean[1,1] - 1) + 0.2 * (-10)\n",
    "V_2_3"
   ]
  }
 ],
 "metadata": {
  "kernelspec": {
   "display_name": "Yofi",
   "language": "python",
   "name": "python3"
  },
  "language_info": {
   "codemirror_mode": {
    "name": "ipython",
    "version": 3
   },
   "file_extension": ".py",
   "mimetype": "text/x-python",
   "name": "python",
   "nbconvert_exporter": "python",
   "pygments_lexer": "ipython3",
   "version": "3.11.9"
  }
 },
 "nbformat": 4,
 "nbformat_minor": 2
}
